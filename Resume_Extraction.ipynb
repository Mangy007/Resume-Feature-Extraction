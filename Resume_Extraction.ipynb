{
 "cells": [
  {
   "cell_type": "code",
   "execution_count": 1,
   "metadata": {},
   "outputs": [],
   "source": [
    "## pdfminer for converting pdf files to html file\n",
    "from pdfminer.layout import LAParams\n",
    "from pdfminer.converter import HTMLConverter\n",
    "from pdfminer.pdfinterp import PDFResourceManager, PDFPageInterpreter\n",
    "from pdfminer.pdfpage import PDFPage\n",
    "import io\n",
    "\n",
    "import re\n",
    "## bs4 for manipulating HTML tree\n",
    "from bs4 import BeautifulSoup\n",
    "## spacy for extraing keywords\n",
    "import spacy\n",
    "from spacy.matcher import Matcher\n",
    "## for getting current time\n",
    "from datetime import datetime\n",
    "import calendar"
   ]
  },
  {
   "cell_type": "code",
   "execution_count": 2,
   "metadata": {},
   "outputs": [],
   "source": [
    "import warnings\n",
    "warnings.filterwarnings(\"ignore\")"
   ]
  },
  {
   "cell_type": "code",
   "execution_count": 3,
   "metadata": {},
   "outputs": [],
   "source": [
    "model = spacy.load('en_core_web_lg')"
   ]
  },
  {
   "cell_type": "code",
   "execution_count": 4,
   "metadata": {},
   "outputs": [],
   "source": [
    "# is_heading_upper_case = False\n",
    "education_token = model('education')\n",
    "skills_token = model('skills')\n",
    "experience_token = model('experience')\n",
    "achievement_token = model('achievement')"
   ]
  },
  {
   "cell_type": "code",
   "execution_count": 41,
   "metadata": {},
   "outputs": [],
   "source": [
    "fname = '/path/resume.pdf'"
   ]
  },
  {
   "cell_type": "code",
   "execution_count": 6,
   "metadata": {},
   "outputs": [],
   "source": [
    "def read_file(fname):\n",
    "    rsrcmgr = PDFResourceManager(caching=False)\n",
    "    retstr = io.StringIO()\n",
    "    codec = False\n",
    "    laparams = LAParams()\n",
    "    scale = 1.0\n",
    "    layoutmode='normal'\n",
    "    imagewriter = None\n",
    "    resume_html = ''\n",
    "    with open(fname, \"rb\") as fp:\n",
    "        device = HTMLConverter(fp, retstr, codec=codec, scale=scale, layoutmode=layoutmode, laparams=laparams, imagewriter=imagewriter)\n",
    "        interpreter = PDFPageInterpreter(rsrcmgr, device)\n",
    "        for page in PDFPage.get_pages(fp):\n",
    "            interpreter.process_page(page)\n",
    "            resume_html =  retstr.getvalue()\n",
    "    parsed_html = BeautifulSoup(resume_html,\"html.parser\")\n",
    "    return parsed_html.body"
   ]
  },
  {
   "cell_type": "code",
   "execution_count": 7,
   "metadata": {},
   "outputs": [],
   "source": [
    "def create_dict(data):\n",
    "    data = data.replace('\"',\"'\")\n",
    "    data = data.replace('; ','\", \"')\n",
    "    data = data.replace(';','')\n",
    "    data = data.replace(\":\",'\":\"')\n",
    "    return eval('{\"'+data+'\"}')"
   ]
  },
  {
   "cell_type": "code",
   "execution_count": 8,
   "metadata": {},
   "outputs": [],
   "source": [
    "def get_text_size_and_frequency(htmldata):\n",
    "    font_size_frequency = {}\n",
    "    for span_data in htmldata.find_all('span'):\n",
    "        text_style = create_dict(span_data.attrs['style'])\n",
    "        if 'font-size' in text_style:\n",
    "            font_size = int(text_style['font-size'].replace('px',''))\n",
    "            if font_size in font_size_frequency:\n",
    "                font_size_frequency[font_size] = font_size_frequency[font_size]+1\n",
    "            else:\n",
    "                font_size_frequency[font_size] = 1\n",
    "    return font_size_frequency"
   ]
  },
  {
   "cell_type": "code",
   "execution_count": 9,
   "metadata": {},
   "outputs": [],
   "source": [
    "def get_maximum_frequency(font_size_dict):\n",
    "    max_freq = 0\n",
    "    max_freq_size = 0\n",
    "    for key in font_size_dict:\n",
    "        if max_freq < font_size_dict[key]:\n",
    "            max_freq = font_size_dict[key]\n",
    "            max_freq_size = key\n",
    "    return max_freq, max_freq_size"
   ]
  },
  {
   "cell_type": "code",
   "execution_count": 10,
   "metadata": {},
   "outputs": [],
   "source": [
    "def is_heading(text_style_dict, data, max_frequency_size_font):\n",
    "    if 'font-size' in text_style_dict and ((max_frequency_size_font < int(text_style_dict['font-size'].replace('px',''))) or (data.text.isupper())):\n",
    "        return True\n",
    "    return False"
   ]
  },
  {
   "cell_type": "code",
   "execution_count": 11,
   "metadata": {},
   "outputs": [],
   "source": [
    "def is_key_present(text,key_token):\n",
    "    tokens = model(text.lower().replace('\\n',' '))\n",
    "    for token in tokens:\n",
    "        if token.similarity(key_token)>0.65:\n",
    "            return True\n",
    "    return False"
   ]
  },
  {
   "cell_type": "code",
   "execution_count": 12,
   "metadata": {},
   "outputs": [],
   "source": [
    "def is_resume_heading(text_style_dict, data, max_frequency_size_font):\n",
    "    is_heading_upper_case = False\n",
    "    if is_heading(text_style_dict,data, max_frequency_size_font) and (is_key_present(data.text,experience_token) or is_key_present(data.text,skills_token) or is_key_present(data.text,education_token)):\n",
    "        if data.text.isupper():\n",
    "            is_heading_upper_case = True\n",
    "        return True, is_heading_upper_case\n",
    "    return False, is_heading_upper_case"
   ]
  },
  {
   "cell_type": "code",
   "execution_count": 13,
   "metadata": {},
   "outputs": [],
   "source": [
    "def get_all_possible_main_heading(htmldata,max_frequency_size_font):\n",
    "    possible_heading_with_frequency = {}\n",
    "    is_heading_upper_case = False\n",
    "    for span_data in htmldata.find_all('span'):\n",
    "        text_style = create_dict(span_data.attrs['style'])\n",
    "        if is_resume_heading(text_style, span_data, max_frequency_size_font)[0]:\n",
    "            is_heading_upper_case = is_resume_heading(text_style, span_data, max_frequency_size_font)[1]\n",
    "            font_size = int(text_style['font-size'].replace('px',''))\n",
    "            if font_size in possible_heading_with_frequency:\n",
    "                possible_heading_with_frequency[font_size]+=1\n",
    "            else:\n",
    "                possible_heading_with_frequency[font_size]=1\n",
    "    return possible_heading_with_frequency, is_heading_upper_case"
   ]
  },
  {
   "cell_type": "code",
   "execution_count": 14,
   "metadata": {},
   "outputs": [],
   "source": [
    "def is_of_heading_size(text_style_dict, data, heading_size, is_heading_upper_case):\n",
    "    if 'font-size' in text_style_dict and (heading_size == int(text_style_dict['font-size'].replace('px',''))) and ((is_heading_upper_case and data.text.isupper()) or (not is_heading_upper_case and not data.text.isupper())):\n",
    "        return True\n",
    "    return False"
   ]
  },
  {
   "cell_type": "code",
   "execution_count": 15,
   "metadata": {},
   "outputs": [],
   "source": [
    "def is_name(text_style_dict, data, is_first_heading, max_frequency_size_font):\n",
    "    if is_heading(text_style_dict, data, max_frequency_size_font):\n",
    "        if is_first_heading:\n",
    "            return True\n",
    "        return False\n",
    "    return False"
   ]
  },
  {
   "cell_type": "code",
   "execution_count": 16,
   "metadata": {},
   "outputs": [],
   "source": [
    "def is_education(text_style_dict, data, heading_size, is_heading_upper_case):\n",
    "    if is_of_heading_size(text_style_dict,data,heading_size,is_heading_upper_case) and is_key_present(data.text,education_token):\n",
    "        return True\n",
    "    return False"
   ]
  },
  {
   "cell_type": "code",
   "execution_count": 17,
   "metadata": {},
   "outputs": [],
   "source": [
    "def is_skills(text_style_dict, data, heading_size, is_heading_upper_case):\n",
    "    if is_of_heading_size(text_style_dict,data,heading_size,is_heading_upper_case) and is_key_present(data.text,skills_token):\n",
    "        return True\n",
    "    return False"
   ]
  },
  {
   "cell_type": "code",
   "execution_count": 18,
   "metadata": {},
   "outputs": [],
   "source": [
    "def is_experienced(text_style_dict, data, heading_size, is_heading_upper_case):\n",
    "    if is_of_heading_size(text_style_dict,data,heading_size,is_heading_upper_case) and is_key_present(data.text,experience_token):\n",
    "        return True\n",
    "    return False"
   ]
  },
  {
   "cell_type": "code",
   "execution_count": 19,
   "metadata": {},
   "outputs": [],
   "source": [
    "def get_mail_id(data):\n",
    "    match = re.search(r'[\\w\\.-]+@[\\w\\.-]+', data)\n",
    "    return match.group(0).replace('\\n',' ')"
   ]
  },
  {
   "cell_type": "code",
   "execution_count": 20,
   "metadata": {},
   "outputs": [],
   "source": [
    "def get_contact_number(data):\n",
    "    mobile_number = re.findall(r'[\\+\\(]?[1-9][0-9 .\\-\\(\\)]{8,}[0-9]', data)\n",
    "    return mobile_number[0].replace('\\n',' ')"
   ]
  },
  {
   "cell_type": "code",
   "execution_count": 21,
   "metadata": {},
   "outputs": [],
   "source": [
    "def experience_matching_pattern(year_keywords,year_synonyms):\n",
    "    matcher = Matcher(model.vocab)\n",
    "    matcher.add(\"month_year_punct_present\", None, [{\"LOWER\": {\"IN\":year_keywords}}, {\"LIKE_NUM\": True}, {\"IS_PUNCT\":True}, {\"LOWER\": \"present\"}])\n",
    "    matcher.add(\"month_year\", None, [{\"LOWER\": {\"IN\":year_keywords}}, {\"LIKE_NUM\": True}])\n",
    "    matcher.add(\"year_punct_month\", None, [{\"LIKE_NUM\": True}, {\"IS_PUNCT\":True}, {\"LOWER\": {\"IN\":year_keywords}}])\n",
    "    matcher.add(\"year_month\", None, [{\"LIKE_NUM\": True}, {\"LOWER\": {\"IN\":year_keywords}}])\n",
    "    matcher.add(\"year_exp\", None, [{\"LIKE_NUM\": True}, {\"LOWER\": {\"IN\":year_synonyms}}])\n",
    "    matcher.add(\"year_punct_exp\", None, [{\"LIKE_NUM\": True}, {\"IS_PUNCT\":False}, {\"LOWER\": {\"IN\":year_synonyms}}])\n",
    "    return matcher"
   ]
  },
  {
   "cell_type": "code",
   "execution_count": 22,
   "metadata": {},
   "outputs": [],
   "source": [
    "def get_year_matched_tokens(years, matcher):\n",
    "    matches = []\n",
    "    for i in years:\n",
    "        doc = model(i.replace('.',' '))\n",
    "        matches.append(matcher(doc))\n",
    "    return matches"
   ]
  },
  {
   "cell_type": "code",
   "execution_count": 23,
   "metadata": {},
   "outputs": [],
   "source": [
    "def add_tokens_if_absent(experience, candidate_info):\n",
    "    for i in candidate_info:\n",
    "        tokens = model(i.replace('.',' '))\n",
    "        for ent in tokens.ents:\n",
    "            if ent.label_ == 'DATE':\n",
    "                experience.append(ent.text)\n",
    "    return experience"
   ]
  },
  {
   "cell_type": "code",
   "execution_count": 24,
   "metadata": {},
   "outputs": [],
   "source": [
    "def get_candidates_experience_in_year(candidate_info, matcher):\n",
    "    matches = get_year_matched_tokens(candidate_info,matcher)\n",
    "    experience = []\n",
    "    for i,match in enumerate(matches):\n",
    "        if len(match)>0:\n",
    "            experience.append(candidate_info[i])\n",
    "    if len(experience) == 0:\n",
    "        experience = add_tokens_if_absent(experience, candidate_info)\n",
    "\n",
    "    return experience"
   ]
  },
  {
   "cell_type": "code",
   "execution_count": 25,
   "metadata": {},
   "outputs": [],
   "source": [
    "def get_present_time():\n",
    "    now = datetime.now()\n",
    "    current_time = now.strftime(\"%b %Y\")\n",
    "    return current_time"
   ]
  },
  {
   "cell_type": "code",
   "execution_count": 26,
   "metadata": {},
   "outputs": [],
   "source": [
    "def convert_year(year):\n",
    "    month_val = dict((v.lower(),k) for k,v in enumerate(calendar.month_abbr))\n",
    "    if year == 'present':\n",
    "        month_year = get_present_time().strip().lower().split(' ')\n",
    "    else:\n",
    "        month_year = year.strip().lower().split(' ')\n",
    "    if len(month_year)>1:\n",
    "        return float(month_year[1])+0.001*float(month_val.get(month_year[0]))\n",
    "    else:\n",
    "        return float(month_year[0])+0.001*float(month_val.get(''))"
   ]
  },
  {
   "cell_type": "code",
   "execution_count": 27,
   "metadata": {},
   "outputs": [],
   "source": [
    "def get_year_diff(years):\n",
    "    time_diff = []\n",
    "    for year in years:\n",
    "        year = year.lower().split('-')\n",
    "        if len(year)>1:\n",
    "            start = convert_year(year[0].strip())\n",
    "            end = convert_year(year[1].strip())\n",
    "            time_diff.append((str(start)+'-'+str(end),str(round(end-start,3))))\n",
    "        else:\n",
    "            time_diff.append((str(year),str(0)))\n",
    "    return time_diff"
   ]
  },
  {
   "cell_type": "code",
   "execution_count": 28,
   "metadata": {},
   "outputs": [],
   "source": [
    "def get_years_from_education_and_experience(candidate_info, matcher):\n",
    "    return get_year_diff(get_candidates_experience_in_year(candidate_info, matcher))"
   ]
  },
  {
   "cell_type": "markdown",
   "metadata": {},
   "source": [
    "## not catered for cases:\n",
    "<ul>\n",
    "    <li>([('2018', '2018'),('2013', '2013')], [])</li>\n",
    "    <li>([('2018.001-2019.009', '1.008'),('2013', '2013')], [])</li>\n",
    "</ul>"
   ]
  },
  {
   "cell_type": "code",
   "execution_count": 29,
   "metadata": {},
   "outputs": [],
   "source": [
    "def get_time_interval(experience):\n",
    "    exp = 0.0\n",
    "    for i in experience:\n",
    "        if len(i[0].split('-'))>1:\n",
    "            exp+=float(i[1])\n",
    "    final_exp = int(str(exp).split('.')[0])+int(int(str(exp).split('.')[1])/12)+0.01*int(int(str(exp).split('.')[1])%12)\n",
    "    return final_exp"
   ]
  },
  {
   "cell_type": "code",
   "execution_count": 30,
   "metadata": {},
   "outputs": [],
   "source": [
    "def preprocess_skills_data(skill_set):\n",
    "    skills = skill_set\n",
    "    skill_set = []\n",
    "    for skill in skills:\n",
    "        skill_set.extend(skill.split(','))\n",
    "    return skill_set"
   ]
  },
  {
   "cell_type": "code",
   "execution_count": 35,
   "metadata": {},
   "outputs": [],
   "source": [
    "def preprocess_experience_data(data, matcher):\n",
    "    data = get_years_from_education_and_experience(data,matcher)\n",
    "    return get_time_interval(data)"
   ]
  },
  {
   "cell_type": "code",
   "execution_count": 36,
   "metadata": {},
   "outputs": [],
   "source": [
    "def extract_candidate_details(htmldata, max_frequency_size_font, heading_size, is_heading_upper_case):\n",
    "    candidate_info = {}\n",
    "    is_first_heading = True\n",
    "    heading_found = False\n",
    "    key = None\n",
    "    year_keywords = [\"jan\",\"feb\",\"mar\",\"apr\",\"may\",\"jun\",\"jul\",\"aug\",\"sept\",\"oct\",\"nov\",\"dec\"]\n",
    "    year_synonyms = [\"yr\",\"yrs\",\"year\",\"years\"]\n",
    "    matcher = experience_matching_pattern(year_keywords, year_synonyms)\n",
    "    for span_data in htmldata.find_all('span'):\n",
    "        text_style = create_dict(span_data.attrs['style'])\n",
    "        if is_name(text_style, span_data, is_first_heading, max_frequency_size_font):\n",
    "            candidate_info['name'] = span_data.text.replace('\\n',' ').strip()\n",
    "            is_first_heading = False\n",
    "        elif is_education(text_style, span_data, heading_size, is_heading_upper_case):\n",
    "            key = 'education'\n",
    "            candidate_info[key] = []\n",
    "        elif is_skills(text_style, span_data, heading_size, is_heading_upper_case):\n",
    "            key = 'skills'\n",
    "            candidate_info[key] = []\n",
    "        elif is_experienced(text_style, span_data, heading_size, is_heading_upper_case):\n",
    "            key = 'experience'\n",
    "            candidate_info[key] = []\n",
    "        elif is_of_heading_size(text_style, span_data, heading_size, is_heading_upper_case):\n",
    "            key = None\n",
    "        elif key is not None:\n",
    "            if len(span_data.text.replace('\\n',' ')) > 0:\n",
    "                candidate_info[key].append(span_data.text.replace('\\n',' ').strip())\n",
    "    \n",
    "    candidate_info['mail_id'] = get_mail_id(htmldata.get_text().replace('\\n',' '))\n",
    "    candidate_info['contact_number'] = get_contact_number(htmldata.get_text().replace('\\n',' '))\n",
    "    if 'skills' in candidate_info:\n",
    "        candidate_info['skills'] = preprocess_skills_data(candidate_info['skills'])\n",
    "    if 'experience' in candidate_info:\n",
    "        candidate_info['experience'] = preprocess_experience_data(candidate_info['experience'], matcher)\n",
    "    if 'education' in candidate_info:\n",
    "        candidate_info['education'] = preprocess_experience_data(candidate_info['education'], matcher)\n",
    "    return candidate_info"
   ]
  },
  {
   "cell_type": "code",
   "execution_count": 39,
   "metadata": {},
   "outputs": [],
   "source": [
    "def extract_text(filePath):\n",
    "    parsed_html = read_file(filePath)\n",
    "    font_size_frequency = get_text_size_and_frequency(parsed_html)\n",
    "    max_frequency_font, max_frequency_size_font = get_maximum_frequency(font_size_frequency)\n",
    "    possible_heading_with_frequency, is_heading_upper_case = get_all_possible_main_heading(parsed_html,max_frequency_size_font)\n",
    "    heading_size = get_maximum_frequency(possible_heading_with_frequency)[1]\n",
    "    candidate_info = extract_candidate_details(parsed_html,max_frequency_size_font,heading_size,is_heading_upper_case)\n",
    "    return candidate_info"
   ]
  },
  {
   "cell_type": "code",
   "execution_count": 40,
   "metadata": {},
   "outputs": [
    {
     "data": {
      "text/plain": [
       "{'name': 'Kumar Mangalam',\n",
       " 'experience': 1.09,\n",
       " 'education': 4.0,\n",
       " 'skills': ['Java',\n",
       "  ' SQL',\n",
       "  ' Python',\n",
       "  'Bootstrap',\n",
       "  ' jQuery',\n",
       "  ' d3.js',\n",
       "  '\\xa0 HTML5',\n",
       "  ' CSS3',\n",
       "  ' Javascript',\n",
       "  '\\xa0 Kibana',\n",
       "  'MongoDB',\n",
       "  ' OrientDB',\n",
       "  ' MySQL',\n",
       "  '\\xa0 ElasticSearch',\n",
       "  'Docker',\n",
       "  ' gUnicorn',\n",
       "  ' Nginx',\n",
       "  '\\xa0 Airflow',\n",
       "  'Pandas',\n",
       "  ' Numpy',\n",
       "  ' Matplotlib',\n",
       "  '\\xa0 Seaborn',\n",
       "  ' Sklearn',\n",
       "  ' OpenCV',\n",
       "  '\\xa0 Tensorflow',\n",
       "  'RNN',\n",
       "  ' LSTM',\n",
       "  ' CNN',\n",
       "  ' Attention',\n",
       "  '\\xa0 Transformer',\n",
       "  ' YOLO',\n",
       "  ' SNN',\n",
       "  '\\xa0 Transfer learning',\n",
       "  ' Statistical\\xa0 classification'],\n",
       " 'mail_id': 'manguatwork@gmail.com',\n",
       " 'contact_number': '7004329208'}"
      ]
     },
     "execution_count": 40,
     "metadata": {},
     "output_type": "execute_result"
    }
   ],
   "source": [
    "extract_text(fname)"
   ]
  },
  {
   "cell_type": "code",
   "execution_count": null,
   "metadata": {},
   "outputs": [],
   "source": []
  }
 ],
 "metadata": {
  "kernelspec": {
   "display_name": "Python 3",
   "language": "python",
   "name": "python3"
  },
  "language_info": {
   "codemirror_mode": {
    "name": "ipython",
    "version": 3
   },
   "file_extension": ".py",
   "mimetype": "text/x-python",
   "name": "python",
   "nbconvert_exporter": "python",
   "pygments_lexer": "ipython3",
   "version": "3.7.4"
  }
 },
 "nbformat": 4,
 "nbformat_minor": 2
}
